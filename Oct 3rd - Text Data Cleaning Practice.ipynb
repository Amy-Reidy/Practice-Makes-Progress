{
 "cells": [
  {
   "cell_type": "markdown",
   "metadata": {},
   "source": [
    "### Based on: https://medium.com/@sachanirenuka/food-inspection-data-cleansing-fc26bac3e885"
   ]
  },
  {
   "cell_type": "code",
   "execution_count": 11,
   "metadata": {},
   "outputs": [],
   "source": [
    "import csv\n",
    "import pandas as pd\n",
    "from collections import Counter\n",
    "import requests"
   ]
  },
  {
   "cell_type": "code",
   "execution_count": 18,
   "metadata": {},
   "outputs": [],
   "source": [
    "# Downloaded the csv data file from https://data.cityofchicago.org/Health-Human-Services/Food-Inspections/4ijn-s7e5 \n",
    "# Read the csv file and stored in a list variable \n",
    "food = list(csv.DictReader(open('Food_Inspections.csv')))"
   ]
  },
  {
   "cell_type": "code",
   "execution_count": 19,
   "metadata": {},
   "outputs": [
    {
     "data": {
      "text/plain": [
       "{'Inspection ID': '2522989',\n",
       " 'DBA Name': 'IPSENTO',\n",
       " 'AKA Name': 'IPSENTO',\n",
       " 'License #': '1741994',\n",
       " 'Facility Type': 'Restaurant',\n",
       " 'Risk': 'Risk 2 (Medium)',\n",
       " 'Address': '2035 N WESTERN AVE ',\n",
       " 'City': 'CHICAGO',\n",
       " 'State': 'IL',\n",
       " 'Zip': '60647',\n",
       " 'Inspection Date': '07/21/2021',\n",
       " 'Inspection Type': 'Canvass',\n",
       " 'Results': 'Out of Business',\n",
       " 'Violations': '',\n",
       " 'Latitude': '41.918574636596254',\n",
       " 'Longitude': '-87.68729592769105',\n",
       " 'Location': '(-87.68729592769105, 41.918574636596254)'}"
      ]
     },
     "execution_count": 19,
     "metadata": {},
     "output_type": "execute_result"
    }
   ],
   "source": [
    "food[0]"
   ]
  },
  {
   "cell_type": "markdown",
   "metadata": {},
   "source": [
    "### Problem 1: Uppercase"
   ]
  },
  {
   "cell_type": "code",
   "execution_count": 22,
   "metadata": {},
   "outputs": [],
   "source": [
    "for row in food:\n",
    "    row['DBA Name'] = row['DBA Name'].upper()\n",
    "    row['AKA Name'] = row['AKA Name'].upper()\n",
    "    row['Facility Type'] = row['Facility Type'].upper()\n",
    "    row['Risk'] = row['Risk'].upper()\n",
    "    row['Address'] = row['Address'].upper()\n",
    "    row['City'] = row['City'].upper()\n",
    "    row['State'] = row['State'].upper()\n",
    "    row['Zip'] = row['Zip'].upper()\n",
    "    row['Inspection Type'] = row['Inspection Type'].upper()\n",
    "    row['Results'] = row['Results'].upper()\n",
    "    row['Violations'] = row['Violations'].upper()\n",
    "    "
   ]
  },
  {
   "cell_type": "code",
   "execution_count": 23,
   "metadata": {},
   "outputs": [
    {
     "data": {
      "text/plain": [
       "{'Inspection ID': '2522989',\n",
       " 'DBA Name': 'IPSENTO',\n",
       " 'AKA Name': 'IPSENTO',\n",
       " 'License #': '1741994',\n",
       " 'Facility Type': 'RESTAURANT',\n",
       " 'Risk': 'RISK 2 (MEDIUM)',\n",
       " 'Address': '2035 N WESTERN AVE ',\n",
       " 'City': 'CHICAGO',\n",
       " 'State': 'IL',\n",
       " 'Zip': '60647',\n",
       " 'Inspection Date': '07/21/2021',\n",
       " 'Inspection Type': 'CANVASS',\n",
       " 'Results': 'OUT OF BUSINESS',\n",
       " 'Violations': '',\n",
       " 'Latitude': '41.918574636596254',\n",
       " 'Longitude': '-87.68729592769105',\n",
       " 'Location': '(-87.68729592769105, 41.918574636596254)'}"
      ]
     },
     "execution_count": 23,
     "metadata": {},
     "output_type": "execute_result"
    }
   ],
   "source": [
    "food[0]"
   ]
  },
  {
   "cell_type": "markdown",
   "metadata": {},
   "source": [
    "### Problem 2: Null value handling and justification"
   ]
  },
  {
   "cell_type": "code",
   "execution_count": 24,
   "metadata": {},
   "outputs": [
    {
     "data": {
      "text/plain": [
       "Counter({'': 2474})"
      ]
     },
     "execution_count": 24,
     "metadata": {},
     "output_type": "execute_result"
    }
   ],
   "source": [
    "#checking the null count in the column 'AKA name'\n",
    "Counter([row['AKA Name'] for row in food if row['AKA Name'] == ''])"
   ]
  },
  {
   "cell_type": "code",
   "execution_count": 25,
   "metadata": {},
   "outputs": [],
   "source": [
    "# Replace null values for AKA Names in the 2474 rows with their DBA Names\n",
    "for row in food:\n",
    "    if row['AKA Name'] == '':\n",
    "        row['AKA Name'] = row['DBA Name']"
   ]
  },
  {
   "cell_type": "code",
   "execution_count": 26,
   "metadata": {},
   "outputs": [
    {
     "data": {
      "text/plain": [
       "Counter()"
      ]
     },
     "execution_count": 26,
     "metadata": {},
     "output_type": "execute_result"
    }
   ],
   "source": [
    "#Recheck the null count in the AKA Name column\n",
    "Counter([row['AKA Name'] for row in food if row['AKA Name'] == ''])"
   ]
  },
  {
   "cell_type": "markdown",
   "metadata": {},
   "source": [
    "### Problem 3: Incorrect spelling, unwanted paranthesis, backslash and single inverted quote"
   ]
  },
  {
   "cell_type": "code",
   "execution_count": 28,
   "metadata": {},
   "outputs": [
    {
     "data": {
      "text/plain": [
       "Counter({'CHICAGO': 224345,\n",
       "         'CHICAGOO': 3,\n",
       "         'CHICAGO.': 3,\n",
       "         'CHICAGOHICAGO': 4,\n",
       "         'CHICAGOC': 2,\n",
       "         'CHICAGOCHICAGO': 10,\n",
       "         'CHICAGOBEDFORD PARK': 1,\n",
       "         'CHICAGOI': 3,\n",
       "         'CHICAGO HEIGHTS': 2})"
      ]
     },
     "execution_count": 28,
     "metadata": {},
     "output_type": "execute_result"
    }
   ],
   "source": [
    "# Checking cities which which start with CHI\n",
    "Counter([row['City'] for row in food if row['City'].startswith('CHI')])"
   ]
  },
  {
   "cell_type": "code",
   "execution_count": 34,
   "metadata": {},
   "outputs": [],
   "source": [
    "# Replace with the right spelling of the city 'CHICAGO'\n",
    "for row in food:\n",
    "    if row['City'].endswith('CAGO') or row['City'].endswith('AGOO') or row['City'].endswith('AGOI') or row['City'].endswith('AGOC') or row['City'] == 'CHICAGOBEDFORD PARK' or row['City'] == 'CHICAGO HEIGHTS':\n",
    "        row['City'] = 'CHICAGO'"
   ]
  },
  {
   "cell_type": "code",
   "execution_count": 35,
   "metadata": {},
   "outputs": [
    {
     "data": {
      "text/plain": [
       "Counter({'CHICAGO': 224434, 'CHICAGO.': 3})"
      ]
     },
     "execution_count": 35,
     "metadata": {},
     "output_type": "execute_result"
    }
   ],
   "source": [
    "Counter([row['City'] for row in food if row['City'].startswith('CHI')])"
   ]
  },
  {
   "cell_type": "code",
   "execution_count": 41,
   "metadata": {},
   "outputs": [
    {
     "data": {
      "text/plain": [
       "''"
      ]
     },
     "execution_count": 41,
     "metadata": {},
     "output_type": "execute_result"
    }
   ],
   "source": [
    "#How to use split function to organise data\n",
    "# Checking 'Violations' column as an example\n",
    "food[67]['Violations']"
   ]
  },
  {
   "cell_type": "code",
   "execution_count": null,
   "metadata": {},
   "outputs": [],
   "source": []
  }
 ],
 "metadata": {
  "kernelspec": {
   "display_name": "Python 3",
   "language": "python",
   "name": "python3"
  },
  "language_info": {
   "codemirror_mode": {
    "name": "ipython",
    "version": 3
   },
   "file_extension": ".py",
   "mimetype": "text/x-python",
   "name": "python",
   "nbconvert_exporter": "python",
   "pygments_lexer": "ipython3",
   "version": "3.8.5"
  }
 },
 "nbformat": 4,
 "nbformat_minor": 4
}
