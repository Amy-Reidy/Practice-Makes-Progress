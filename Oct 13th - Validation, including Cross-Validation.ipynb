{
 "cells": [
  {
   "cell_type": "markdown",
   "metadata": {},
   "source": [
    "## Validation and Regularization\n",
    "\n",
    "![](images/hair.png)"
   ]
  },
  {
   "cell_type": "code",
   "execution_count": 1,
   "metadata": {},
   "outputs": [],
   "source": [
    "import numpy as np\n",
    "import pandas as pd\n",
    "import matplotlib.pyplot as plt\n",
    "import matplotlib as mpl\n",
    "import matplotlib.cm as cm\n",
    "import scipy as sp\n",
    "\n",
    "%matplotlib inline\n",
    "pd.set_option('display.width', 500)\n",
    "pd.set_option('display.max_columns', 100)\n",
    "pd.set_option('display.notebook_repr_html', True)"
   ]
  },
  {
   "cell_type": "code",
   "execution_count": 2,
   "metadata": {},
   "outputs": [],
   "source": [
    "'''\n",
    "def make_simple_plot():\n",
    "    fig, axes=plt.subplots(figsize=(12,5), nrows=1, ncols=2)\n",
    "    axes[0].set_ylabel(\"$y$\")\n",
    "    axes[0].set_xlabel(\"$x$\")\n",
    "    axes[1].set_xlabel(\"$x$\")\n",
    "    axes[1].set_yticklabels([])\n",
    "    axes[0].set_ylim([-2,2])\n",
    "    axes[1].set_ylim([-2,2])\n",
    "    plt.tight_layout();\n",
    "    return axes\n",
    "\n",
    "def make_plot():\n",
    "    fig, axes=plt.subplots(figsize=(20,8), nrows=1, ncols=2)\n",
    "    axes[0].set_ylabel(\"$p_R$\")\n",
    "    axes[0].set_xlabel(\"$x$\")\n",
    "    axes[1].set_xlabel(\"$x$\")\n",
    "    axes[1].set_yticklabels([])\n",
    "    axes[0].set_ylim([0,1])\n",
    "    axes[1].set_ylim([0,1])\n",
    "    axes[0].set_xlim([0,1])\n",
    "    axes[1].set_xlim([0,1])\n",
    "    plt.tight_layout();\n",
    "    return axes\n",
    "\n",
    "'''"
   ]
  },
  {
   "cell_type": "markdown",
   "metadata": {},
   "source": [
    "### Part 1 Reading in and sampling from the data"
   ]
  },
  {
   "cell_type": "code",
   "execution_count": 3,
   "metadata": {},
   "outputs": [
    {
     "data": {
      "text/html": [
       "<div>\n",
       "<style scoped>\n",
       "    .dataframe tbody tr th:only-of-type {\n",
       "        vertical-align: middle;\n",
       "    }\n",
       "\n",
       "    .dataframe tbody tr th {\n",
       "        vertical-align: top;\n",
       "    }\n",
       "\n",
       "    .dataframe thead th {\n",
       "        text-align: right;\n",
       "    }\n",
       "</style>\n",
       "<table border=\"1\" class=\"dataframe\">\n",
       "  <thead>\n",
       "    <tr style=\"text-align: right;\">\n",
       "      <th></th>\n",
       "      <th>f</th>\n",
       "      <th>x</th>\n",
       "      <th>y</th>\n",
       "    </tr>\n",
       "  </thead>\n",
       "  <tbody>\n",
       "    <tr>\n",
       "      <th>0</th>\n",
       "      <td>0.047790</td>\n",
       "      <td>0.00</td>\n",
       "      <td>0.011307</td>\n",
       "    </tr>\n",
       "    <tr>\n",
       "      <th>1</th>\n",
       "      <td>0.051199</td>\n",
       "      <td>0.01</td>\n",
       "      <td>0.010000</td>\n",
       "    </tr>\n",
       "    <tr>\n",
       "      <th>2</th>\n",
       "      <td>0.054799</td>\n",
       "      <td>0.02</td>\n",
       "      <td>0.007237</td>\n",
       "    </tr>\n",
       "    <tr>\n",
       "      <th>3</th>\n",
       "      <td>0.058596</td>\n",
       "      <td>0.03</td>\n",
       "      <td>0.000056</td>\n",
       "    </tr>\n",
       "    <tr>\n",
       "      <th>4</th>\n",
       "      <td>0.062597</td>\n",
       "      <td>0.04</td>\n",
       "      <td>0.010000</td>\n",
       "    </tr>\n",
       "  </tbody>\n",
       "</table>\n",
       "</div>"
      ],
      "text/plain": [
       "          f     x         y\n",
       "0  0.047790  0.00  0.011307\n",
       "1  0.051199  0.01  0.010000\n",
       "2  0.054799  0.02  0.007237\n",
       "3  0.058596  0.03  0.000056\n",
       "4  0.062597  0.04  0.010000"
      ]
     },
     "execution_count": 3,
     "metadata": {},
     "output_type": "execute_result"
    }
   ],
   "source": [
    "df = pd.read_csv(\"noisypopulation.csv\")\n",
    "df.head()"
   ]
  },
  {
   "cell_type": "code",
   "execution_count": 4,
   "metadata": {},
   "outputs": [],
   "source": [
    "x = df.f.values\n",
    "f = df.x.values\n",
    "y = df.y.values"
   ]
  },
  {
   "cell_type": "code",
   "execution_count": 5,
   "metadata": {},
   "outputs": [
    {
     "data": {
      "text/plain": [
       "(200, 3)"
      ]
     },
     "execution_count": 5,
     "metadata": {},
     "output_type": "execute_result"
    }
   ],
   "source": [
    "df.shape"
   ]
  },
  {
   "cell_type": "markdown",
   "metadata": {},
   "source": [
    "From 200 points on this curve, we'll make a random choice of 60 points. We do it by choosing the indexes randomly, and then using these indexes as a way of grtting the appropriate samples."
   ]
  },
  {
   "cell_type": "code",
   "execution_count": 6,
   "metadata": {},
   "outputs": [
    {
     "data": {
      "text/plain": [
       "array([  2,  17,  18,  22,  23,  28,  32,  36,  37,  38,  48,  50,  54,\n",
       "        56,  61,  63,  64,  65,  66,  75,  76,  79,  84,  89,  90,  91,\n",
       "        92,  97,  99, 100, 104, 107, 112, 115, 123, 126, 141, 144, 145,\n",
       "       146, 148, 152, 153, 154, 157, 161, 163, 164, 170, 173, 174, 175,\n",
       "       179, 181, 182, 183, 188, 193, 194, 195])"
      ]
     },
     "execution_count": 6,
     "metadata": {},
     "output_type": "execute_result"
    }
   ],
   "source": [
    "indexes = np.sort(np.random.choice(x.shape[0], size=60, replace=False))\n",
    "indexes"
   ]
  },
  {
   "cell_type": "code",
   "execution_count": 7,
   "metadata": {},
   "outputs": [],
   "source": [
    "samplex = x[indexes]\n",
    "samplef = f[indexes]\n",
    "sampley = y[indexes]"
   ]
  },
  {
   "cell_type": "code",
   "execution_count": 8,
   "metadata": {},
   "outputs": [
    {
     "data": {
      "text/plain": [
       "<matplotlib.legend.Legend at 0x293463ee850>"
      ]
     },
     "execution_count": 8,
     "metadata": {},
     "output_type": "execute_result"
    },
    {
     "data": {
      "image/png": "[encoded data removed]",
      "text/plain": [
       "<Figure size 432x288 with 1 Axes>"
      ]
     },
     "metadata": {
      "needs_background": "light"
     },
     "output_type": "display_data"
    }
   ],
   "source": [
    "plt.plot(x,f, 'k', alpha=0.6, label=\"f\");\n",
    "plt.plot(x[indexes], y[indexes], 's', alpha=0.3, ms=10, label=\"in-sample y (observed)\");\n",
    "plt.plot(x,y, '.', alpha=0.8, label=\"population y\");\n",
    "plt.xlabel(\"$x$\")\n",
    "plt.ylabel(\"$y$\")\n",
    "plt.legend(loc=4)"
   ]
  },
  {
   "cell_type": "code",
   "execution_count": 9,
   "metadata": {},
   "outputs": [],
   "source": [
    "sample_df = pd.DataFrame(dict(x=x[indexes],f=f[indexes],y=y[indexes]))"
   ]
  },
  {
   "cell_type": "markdown",
   "metadata": {},
   "source": [
    "### Part 2: Fit on training set and predict on test set\n",
    "\n",
    "We will do the split of testing and training for you in order to illustrate how this can be done.\n",
    "\n",
    "#### Train-test split"
   ]
  },
  {
   "cell_type": "code",
   "execution_count": 10,
   "metadata": {},
   "outputs": [],
   "source": [
    "from sklearn.model_selection import train_test_split"
   ]
  },
  {
   "cell_type": "code",
   "execution_count": 11,
   "metadata": {},
   "outputs": [],
   "source": [
    "X_train, X_test, y_train, y_test = train_test_split(samplex, sampley, train_size=0.8)"
   ]
  },
  {
   "cell_type": "code",
   "execution_count": 12,
   "metadata": {},
   "outputs": [
    {
     "name": "stdout",
     "output_type": "stream",
     "text": [
      "(48,)\n"
     ]
    }
   ],
   "source": [
    "print(X_train.shape)"
   ]
  },
  {
   "cell_type": "markdown",
   "metadata": {},
   "source": [
    "We'll need to create polynomial features, ie add 1, x, x^2 and so on."
   ]
  },
  {
   "cell_type": "markdown",
   "metadata": {},
   "source": [
    "### The `scikit-learn` interface\n",
    "\n",
    "Scikit-learn is the main python machine learning library. It consists of many learners which can learn models from data, as well as a lot of utility functions such as `train_test_split`. It can be used in python by the incantation `import sklearn`.\n",
    "\n",
    "The library has a very well defined interface. This makes the library a joy to use, and surely contributes to its popularity. As the [scikit-learn API paper](http://arxiv.org/pdf/1309.0238v1.pdf) [Buitinck, Lars, et al. \"API design for machine learning software: experiences from the scikit-learn project.\" arXiv preprint arXiv:1309.0238 (2013).] says:\n",
    "\n",
    ">All objects within scikit-learn share a uniform common basic API consisting of three complementary interfaces: **an estimator interface for building and ﬁtting models, a predictor interface for making predictions and a transformer interface for converting data**. The estimator interface is at the core of the library. It deﬁnes instantiation mechanisms of objects and exposes a `fit` method for learning a model from training data. All supervised and unsupervised learning algorithms (e.g., for classiﬁcation, regression or clustering) are oﬀered as objects implementing this interface. Machine learning tasks like feature extraction, feature selection or dimensionality reduction are also provided as estimators.\n",
    "\n",
    "We'll use the \"estimator\" interface here, specifically the estimator `PolynomialFeatures`. The API paper again:\n",
    "\n",
    ">Since it is common to modify or ﬁlter data before feeding it to a learning algorithm, some estimators in the library implement a transformer interface which deﬁnes a transform method. It takes as input some new data X and yields as output a transformed version of X. Preprocessing, feature selection, feature extraction and dimensionality reduction algorithms are all provided as transformers within the library.\n",
    "\n",
    "To start with we have one **feature** `x` to predict `y`, what we will do is the transformation:\n",
    "\n",
    "$$ x \\rightarrow 1, x, x^2, x^3, ..., x^d $$\n",
    "\n",
    "for some power $d$. Our job then is to **fit** for the coefficients of these features in the polynomial\n",
    "\n",
    "$$ a_0 + a_1 x + a_2 x^2 + ... + a_d x^d. $$\n",
    "\n",
    "In other words, we have transformed a function of one feature, into a (rather simple) **linear** function of many features. To do this we first construct the estimator as `PolynomialFeatures(d)`, and then transform these features into a d-dimensional space using the method `fit_transform`.\n",
    "\n",
    "![fit_transform](images/sklearntrans.jpg)\n",
    "\n",
    "Here is an example. The reason for using `[[1],[2],[3]]` as opposed to `[1,2,3]` is that scikit-learn expects data to be stored in a two-dimensional array or matrix with size `[n_samples, n_features]`."
   ]
  },
  {
   "cell_type": "code",
   "execution_count": 13,
   "metadata": {},
   "outputs": [],
   "source": [
    "demo = np.array([1,2,3]).reshape(-1,1)"
   ]
  },
  {
   "cell_type": "code",
   "execution_count": 14,
   "metadata": {},
   "outputs": [
    {
     "data": {
      "text/plain": [
       "array([[1],\n",
       "       [2],\n",
       "       [3]])"
      ]
     },
     "execution_count": 14,
     "metadata": {},
     "output_type": "execute_result"
    }
   ],
   "source": [
    "demo"
   ]
  },
  {
   "cell_type": "code",
   "execution_count": 15,
   "metadata": {},
   "outputs": [],
   "source": [
    "from sklearn.preprocessing import PolynomialFeatures"
   ]
  },
  {
   "cell_type": "code",
   "execution_count": 16,
   "metadata": {},
   "outputs": [
    {
     "data": {
      "text/plain": [
       "array([[  1.,   1.,   1.,   1.,   1.,   1.],\n",
       "       [  1.,   2.,   4.,   8.,  16.,  32.],\n",
       "       [  1.,   3.,   9.,  27.,  81., 243.]])"
      ]
     },
     "execution_count": 16,
     "metadata": {},
     "output_type": "execute_result"
    }
   ],
   "source": [
    "PolynomialFeatures(5).fit_transform(demo)"
   ]
  },
  {
   "cell_type": "markdown",
   "metadata": {},
   "source": [
    "To transform `[1,2,3]` into [[1],[2],[3]] we need to do a reshape.\n",
    "\n",
    "![reshape](images/reshape.jpg)"
   ]
  },
  {
   "cell_type": "code",
   "execution_count": 17,
   "metadata": {},
   "outputs": [
    {
     "data": {
      "text/plain": [
       "array([[0.71359101],\n",
       "       [0.87686794],\n",
       "       [0.86433394],\n",
       "       [0.79767162],\n",
       "       [0.79758014],\n",
       "       [0.5       ],\n",
       "       [0.88493033],\n",
       "       [0.8695251 ],\n",
       "       [0.13566606],\n",
       "       [0.80873507],\n",
       "       [0.56618383],\n",
       "       [0.32036919]])"
      ]
     },
     "execution_count": 17,
     "metadata": {},
     "output_type": "execute_result"
    }
   ],
   "source": [
    "X_test.reshape(-1,1)"
   ]
  },
  {
   "cell_type": "code",
   "execution_count": 18,
   "metadata": {},
   "outputs": [],
   "source": [
    "from sklearn.linear_model import LinearRegression\n",
    "from sklearn.metrics import mean_squared_error"
   ]
  },
  {
   "cell_type": "code",
   "execution_count": 19,
   "metadata": {},
   "outputs": [
    {
     "data": {
      "text/plain": [
       "array([[1.00000000e+00, 7.26772002e-01, 5.28197544e-01, 3.83879186e-01],\n",
       "       [1.00000000e+00, 6.36327466e-01, 4.04912644e-01, 2.57657037e-01],\n",
       "       [1.00000000e+00, 7.89744050e-01, 6.23695664e-01, 4.92559940e-01],\n",
       "       [1.00000000e+00, 6.68477165e-01, 4.46861720e-01, 2.98716855e-01],\n",
       "       [1.00000000e+00, 9.28766623e-01, 8.62607439e-01, 8.01160998e-01],\n",
       "       [1.00000000e+00, 5.79259709e-01, 3.35541811e-01, 1.94365852e-01],\n",
       "       [1.00000000e+00, 6.69624806e-01, 4.48397381e-01, 3.00258010e-01],\n",
       "       [1.00000000e+00, 7.53019536e-01, 5.67038422e-01, 4.26991009e-01],\n",
       "       [1.00000000e+00, 1.43061192e-01, 2.04665047e-02, 2.92796256e-03],\n",
       "       [1.00000000e+00, 4.46964883e-01, 1.99777607e-01, 8.92935748e-02],\n",
       "       [1.00000000e+00, 9.03199515e-01, 8.15769365e-01, 7.36802495e-01],\n",
       "       [1.00000000e+00, 8.08113160e-01, 6.53046880e-01, 5.27735778e-01],\n",
       "       [1.00000000e+00, 8.56628532e-01, 7.33812442e-01, 6.28604675e-01],\n",
       "       [1.00000000e+00, 3.32386313e-01, 1.10480661e-01, 3.67222595e-02],\n",
       "       [1.00000000e+00, 7.96405198e-01, 6.34261239e-01, 5.05128948e-01],\n",
       "       [1.00000000e+00, 6.84340526e-01, 4.68321955e-01, 3.20491693e-01],\n",
       "       [1.00000000e+00, 6.26062444e-01, 3.91954183e-01, 2.45387794e-01],\n",
       "       [1.00000000e+00, 6.24456690e-01, 3.89946158e-01, 2.43504487e-01],\n",
       "       [1.00000000e+00, 7.99338038e-01, 6.38941299e-01, 5.10730084e-01],\n",
       "       [1.00000000e+00, 2.74253118e-01, 7.52147726e-02, 2.06278859e-02],\n",
       "       [1.00000000e+00, 6.89495097e-01, 4.75403489e-01, 3.27788375e-01],\n",
       "       [1.00000000e+00, 4.73423536e-01, 2.24129844e-01, 1.06108343e-01],\n",
       "       [1.00000000e+00, 3.08537539e-01, 9.51954128e-02, 2.93713584e-02],\n",
       "       [1.00000000e+00, 6.91462461e-01, 4.78120335e-01, 3.30602264e-01],\n",
       "       [1.00000000e+00, 6.75252895e-01, 4.55966472e-01, 3.07892680e-01],\n",
       "       [1.00000000e+00, 8.20175858e-01, 6.72688438e-01, 5.51722816e-01],\n",
       "       [1.00000000e+00, 8.09565505e-01, 6.55396307e-01, 5.30586242e-01],\n",
       "       [1.00000000e+00, 8.41344746e-01, 7.07860982e-01, 5.95555118e-01],\n",
       "       [1.00000000e+00, 9.24118700e-01, 8.53995371e-01, 7.89193092e-01],\n",
       "       [1.00000000e+00, 7.23402017e-01, 5.23310478e-01, 3.78563855e-01],\n",
       "       [1.00000000e+00, 8.33229649e-01, 6.94271649e-01, 5.78487722e-01],\n",
       "       [1.00000000e+00, 6.47534970e-01, 4.19301538e-01, 2.71512409e-01],\n",
       "       [1.00000000e+00, 5.26576464e-01, 2.77282773e-01, 1.46010582e-01],\n",
       "       [1.00000000e+00, 8.64489009e-01, 7.47341247e-01, 6.46068295e-01],\n",
       "       [1.00000000e+00, 8.78327495e-01, 7.71459189e-01, 6.77593817e-01],\n",
       "       [1.00000000e+00, 9.33192799e-01, 8.70848800e-01, 8.12669829e-01],\n",
       "       [1.00000000e+00, 7.03098571e-01, 4.94347601e-01, 3.47575092e-01],\n",
       "       [1.00000000e+00, 5.47716498e-01, 2.99993362e-01, 1.64311313e-01],\n",
       "       [1.00000000e+00, 2.31677575e-01, 5.36744986e-02, 1.24351777e-02],\n",
       "       [1.00000000e+00, 1.84060125e-01, 3.38781297e-02, 6.23561281e-03],\n",
       "       [1.00000000e+00, 5.53035117e-01, 3.05847840e-01, 1.69144596e-01],\n",
       "       [1.00000000e+00, 5.73736094e-01, 3.29173106e-01, 1.88858492e-01],\n",
       "       [1.00000000e+00, 5.47992917e-02, 3.00296237e-03, 1.64560211e-04],\n",
       "       [1.00000000e+00, 1.75323945e-01, 3.07384856e-02, 5.38919256e-03],\n",
       "       [1.00000000e+00, 8.63248320e-01, 7.45197661e-01, 6.43290629e-01],\n",
       "       [1.00000000e+00, 7.58115442e-01, 5.74739023e-01, 4.35718529e-01],\n",
       "       [1.00000000e+00, 6.68447597e-01, 4.46822190e-01, 2.98677219e-01],\n",
       "       [1.00000000e+00, 8.37494011e-01, 7.01396218e-01, 5.87415132e-01]])"
      ]
     },
     "execution_count": 19,
     "metadata": {},
     "output_type": "execute_result"
    }
   ],
   "source": [
    "PolynomialFeatures(3).fit_transform(X_train.reshape(-1,1))"
   ]
  },
  {
   "cell_type": "code",
   "execution_count": 20,
   "metadata": {},
   "outputs": [
    {
     "data": {
      "text/plain": [
       "array([[1.        , 0.71359101, 0.50921214, 0.3633692 ],\n",
       "       [1.        , 0.87686794, 0.76889739, 0.67422147],\n",
       "       [1.        , 0.86433394, 0.74707316, 0.64572069],\n",
       "       [1.        , 0.79767162, 0.63628001, 0.50754251],\n",
       "       [1.        , 0.79758014, 0.63613408, 0.50736791],\n",
       "       [1.        , 0.5       , 0.25      , 0.125     ],\n",
       "       [1.        , 0.88493033, 0.78310169, 0.69299044],\n",
       "       [1.        , 0.8695251 , 0.7560739 , 0.65742524],\n",
       "       [1.        , 0.13566606, 0.01840528, 0.00249697],\n",
       "       [1.        , 0.80873507, 0.65405241, 0.52895512],\n",
       "       [1.        , 0.56618383, 0.32056413, 0.18149823],\n",
       "       [1.        , 0.32036919, 0.10263642, 0.03288155]])"
      ]
     },
     "execution_count": 20,
     "metadata": {},
     "output_type": "execute_result"
    }
   ],
   "source": [
    "PolynomialFeatures(3).fit_transform(X_test.reshape(-1,1))"
   ]
  },
  {
   "cell_type": "markdown",
   "metadata": {},
   "source": [
    "### Creating Polynomial features\n",
    "\n",
    "We'll write a function to encapsulate what we learnt about creating the polynomial features."
   ]
  },
  {
   "cell_type": "code",
   "execution_count": 21,
   "metadata": {},
   "outputs": [],
   "source": [
    "def make_features(train_set, test_set, degrees):\n",
    "    train_dict = {}\n",
    "    test_dict = {}\n",
    "    for d in degrees:\n",
    "        traintestdict = {}\n",
    "        train_dict[d] = PolynomialFeatures(d).fit_transform(train_set.reshape(-1,1))\n",
    "        test_dict[d] = PolynomialFeatures(d).fit_transform(test_set.reshape(-1,1))\n",
    "    return train_dict, test_dict"
   ]
  },
  {
   "cell_type": "markdown",
   "metadata": {},
   "source": [
    "### Doing the fit\n",
    "\n",
    "We first create our features, and some arrays to store the errors."
   ]
  },
  {
   "cell_type": "code",
   "execution_count": 22,
   "metadata": {},
   "outputs": [],
   "source": [
    "degrees = range(30)\n",
    "#train_dict, test_dict = make_features(X_train, X_test, degrees)"
   ]
  },
  {
   "cell_type": "code",
   "execution_count": 23,
   "metadata": {},
   "outputs": [],
   "source": [
    "error_train = np.empty(len(degrees))\n",
    "error_test = np.empty(len(degrees))"
   ]
  },
  {
   "cell_type": "markdown",
   "metadata": {},
   "source": [
    "What is the fitting process? We first loop over all the **hypothesis set**s that we wish to consider: in our case this is a loop over the complexity parameter $d$, the degree of the polynomials we will try and fit. That is we start with ${\\cal H_0}$, the set of all 0th order polynomials, then do ${\\cal H_1}$, then ${\\cal H_2}$, and so on... We use the notation ${\\cal H}$ to indicate a hypothesis set. Then for each degree $d$, we obtain a best fit model. We then \"test\" this model by predicting on the test chunk, obtaining the test set error for the best-fit polynomial coefficients and for degree $d$. We move on to the next degree $d$ and repeat the process, just like before. We compare all the test set errors, and pick the degree $d_*$ and the model in ${\\cal H_{d_*}}$ which minimizes this test set error.\n",
    "\n",
    ">**YOUR TURN HERE**: For each degree d, train on the training set and predict on the test set. Store the training MSE in `error_train` and test MSE in `error_test`."
   ]
  },
  {
   "cell_type": "code",
   "execution_count": 24,
   "metadata": {},
   "outputs": [],
   "source": [
    "#for each degree, we now fit on the training set and predict on the test set\n",
    "#we accumulate the MSE on both sets in error_train and error_test\n",
    "\n",
    "for d in degrees:#for increasing polynomial degrees 0,1,2...\n",
    "    # Create polynomials from x\n",
    "    X_p_train = PolynomialFeatures(d).fit_transform(X_train.reshape(-1,1))\n",
    "    X_p_test = PolynomialFeatures(d).fit_transform(X_test.reshape(-1,1))\n",
    "    #set up model\n",
    "    est = LinearRegression()\n",
    "    #fit\n",
    "    est.fit(X_p_train, y_train)\n",
    "    #predict\n",
    "    prediction_on_training = est.predict(X_p_train)\n",
    "    prediction_on_test = est.predict(X_p_test)\n",
    "    #calculate mean squared error\n",
    "    error_train[d] = mean_squared_error(y_train, prediction_on_training)\n",
    "    error_test[d] = mean_squared_error(y_test, prediction_on_test)"
   ]
  },
  {
   "cell_type": "markdown",
   "metadata": {},
   "source": [
    "We can find the best degrees thus:"
   ]
  },
  {
   "cell_type": "code",
   "execution_count": 25,
   "metadata": {},
   "outputs": [
    {
     "data": {
      "text/plain": [
       "28"
      ]
     },
     "execution_count": 25,
     "metadata": {},
     "output_type": "execute_result"
    }
   ],
   "source": [
    "np.argmin(error_train)"
   ]
  },
  {
   "cell_type": "code",
   "execution_count": 26,
   "metadata": {},
   "outputs": [],
   "source": [
    "bestd = np.argmin(error_test)"
   ]
  },
  {
   "cell_type": "code",
   "execution_count": 27,
   "metadata": {},
   "outputs": [
    {
     "data": {
      "image/png": "[encoded data removed]",
      "text/plain": [
       "<Figure size 432x288 with 1 Axes>"
      ]
     },
     "metadata": {
      "needs_background": "light"
     },
     "output_type": "display_data"
    }
   ],
   "source": [
    "plt.plot(degrees, error_train, marker='o', label='train (in-sample)')\n",
    "plt.plot(degrees, error_test, marker='o', label='test')\n",
    "plt.axvline(bestd, 0, 0.5, color='r', label=\"min test error at d=%d\"%bestd, alpha=0.3)\n",
    "plt.ylabel(\"mean squared error\")\n",
    "plt.xlabel(\"degree\")\n",
    "plt.legend(loc=\"upper left\")\n",
    "plt.yscale(\"log\")\n"
   ]
  },
  {
   "cell_type": "markdown",
   "metadata": {},
   "source": [
    "![m:caption](images/complexity-error-plot.png)"
   ]
  },
  {
   "cell_type": "markdown",
   "metadata": {},
   "source": [
    "### Validation\n",
    "\n",
    "What we have done in picking a given $d$ as the best hypothesis is that we have used the test set as a training set. \n",
    "If we choose the best $d$ based on minimizing the test set error, we have then \"fit for\" hyperparameter $d$ on the test set. \n",
    "\n",
    "In this case, the test-set error will underestimate the true out of sample error. Furthermore, we have **contaminated the test set** by fitting for $d$ on it; it is no longer a true test set.\n",
    "\n",
    "Thus, we introduce a new **validation set** on which the complexity parameter $d$ is fit, and leave out a test set which we can use to estimate the true out-of-sample performance of our learner. The place of this set in the scheme of things is shown below:\n",
    "\n",
    "![m:caption](images/train-validate-test.png)\n",
    "\n",
    "We have split the old training set into a **new smaller training set** and a **validation set**, holding the old test aside for FINAL testing AFTER we have \"fit\" for complexity $d$. Obviously we have decreased the size of the data available for training further, but this is a price we must pay for obtaining a good estimate of the out-of-sample risk $\\cal{E}_{out}$ (also denoted as risk $R_{out}$) through the test risk $\\cal{E}_{test}$ ($R_{test}$).\n",
    "\n",
    "![m:caption](images/train-validate-test-cont.png)"
   ]
  },
  {
   "cell_type": "markdown",
   "metadata": {},
   "source": [
    "The validation process is illustrated in these two figures. We first loop over the complexity parameter $d$, the degree of the polynomials we will try and fit. Then for each degree $d$, we obtain a best fit model $g^-_d$ where the \"minus\" superscript indicates that we fit our model on the new training set which is obtained by removing (\"minusing\") a validation chunk (often the same size as the test chunk) from the old training set. We then \"test\" this model on the validation chunk, obtaining the validation error for the best-fit polynomial coefficients and for degree $d$. We move on to the next degree $d$ and repeat the process, just like before. We compare all the validation set errors, just like we did with the test errors earlier, and pick the degree $d_*$ which minimizes this validation set error.\n",
    "\n",
    "![caption](images/train-validate-test3.png)\n",
    "\n",
    "Having picked the hyperparameter $d_*$, we retrain using the hypothesis set $\\cal{H}_{*}$ on the entire old training-set to find the parameters of the polynomial of order $d_*$ and the corresponding best fit hypothesis $g_*$. Note that we left the minus off the $g$ to indicate that it was trained on the entire old traing set. We now compute the test error on the test set as an estimate of the test risk $\\cal{E}_{test}$.\n",
    "\n",
    "Thus the **validation** set if the set on which the hyperparameter is fit. This method of splitting the data $\\cal{D}$ is called the **train-validate-test** split."
   ]
  },
  {
   "cell_type": "markdown",
   "metadata": {},
   "source": [
    "### Fit on training and predict on validation\n",
    "\n",
    "\n",
    "We carry out this process for one training/validation split below. Note the smaller size of the new training set. We hold the test set at the same size."
   ]
  },
  {
   "cell_type": "code",
   "execution_count": 28,
   "metadata": {},
   "outputs": [],
   "source": [
    "X_v_train, X_v_test, y_v_train, y_v_test = train_test_split(X_train, y_train, test_size=12)"
   ]
  },
  {
   "cell_type": "code",
   "execution_count": 29,
   "metadata": {},
   "outputs": [
    {
     "data": {
      "text/plain": [
       "(36,)"
      ]
     },
     "execution_count": 29,
     "metadata": {},
     "output_type": "execute_result"
    }
   ],
   "source": [
    "X_v_train.shape"
   ]
  },
  {
   "cell_type": "code",
   "execution_count": 30,
   "metadata": {},
   "outputs": [],
   "source": [
    "degrees = range(20)"
   ]
  },
  {
   "cell_type": "markdown",
   "metadata": {},
   "source": [
    ">YOUR TURN HERE: Train on the smaller training set. Fit for d on the validation set.  Store the respective MSEs in `error_train` and `error_valid`. Then retrain on the entire training set using this d. Label the test set MSE with the variable `err`."
   ]
  },
  {
   "cell_type": "code",
   "execution_count": 31,
   "metadata": {},
   "outputs": [],
   "source": [
    "error_train = np.empty(len(degrees))\n",
    "error_valid = np.empty(len(degrees))\n",
    "#for each degree, we now fit on the smaller training set and predict on the validation set\n",
    "#we accumulate the MSE on both sets in error_train and error_valid\n",
    "#we then find the degree of polynomial that minimizes the MSE on the validation set.\n",
    "\n",
    "for d in degrees: #for increasing polynomial degrees 0,1,2....\n",
    "    #Create polynomials from x\n",
    "    Xntrain = PolynomialFeatures(d).fit_transform(X_v_train.reshape(-1,1))\n",
    "    Xnvalid = PolynomialFeatures(d).fit_transform(X_v_test.reshape(-1,1))\n",
    "    #fit a model linear in polynomial coefficients on the new smaller training set\n",
    "    est = LinearRegression()\n",
    "    est.fit(Xntrain, y_v_train)\n",
    "    #predict on new training and validation sets and calculate mean squared error\n",
    "    error_train[d] = mean_squared_error(y_v_train, est.predict(Xntrain))\n",
    "    error_valid[d] = mean_squared_error(y_v_test, est.predict(Xnvalid))"
   ]
  },
  {
   "cell_type": "code",
   "execution_count": 32,
   "metadata": {},
   "outputs": [
    {
     "data": {
      "text/plain": [
       "9"
      ]
     },
     "execution_count": 32,
     "metadata": {},
     "output_type": "execute_result"
    }
   ],
   "source": [
    "# calculate the degree at which validation error is minimized\n",
    "mindeg = np.argmin(error_valid)\n",
    "mindeg"
   ]
  },
  {
   "cell_type": "code",
   "execution_count": 33,
   "metadata": {},
   "outputs": [],
   "source": [
    "# fit on whole training set now\n",
    "# you will need to remake polynomial features on the whole training set\n",
    "#put MSE on the test set in variable error\n",
    "\n",
    "X_p_train = PolynomialFeatures(mindeg).fit_transform(X_train.reshape(-1,1))\n",
    "X_p_test = PolynomialFeatures(mindeg).fit_transform(X_test.reshape(-1,1))\n",
    "est = LinearRegression()\n",
    "est.fit(X_p_train, y_train) \n",
    "#predict on the test set now and calculate the error\n",
    "pred= est.predict(X_p_test)\n",
    "err = mean_squared_error(y_test, pred)"
   ]
  },
  {
   "cell_type": "markdown",
   "metadata": {},
   "source": [
    "We plot the training error and validation error against the degree of the polynomial, and show the test set error at the $d$ which minimizes the validation set error."
   ]
  },
  {
   "cell_type": "code",
   "execution_count": 34,
   "metadata": {},
   "outputs": [
    {
     "name": "stdout",
     "output_type": "stream",
     "text": [
      "9\n"
     ]
    },
    {
     "data": {
      "image/png": "[encoded data removed]",
      "text/plain": [
       "<Figure size 432x288 with 1 Axes>"
      ]
     },
     "metadata": {
      "needs_background": "light"
     },
     "output_type": "display_data"
    }
   ],
   "source": [
    "plt.plot(degrees, error_train, marker='o', label='train (in-sample)')\n",
    "plt.plot(degrees, error_valid, marker='o', label='validation')\n",
    "plt.plot([mindeg], [err], marker='s', markersize=10, label='test', alpha=0.5, color='r')\n",
    "plt.ylabel('mean squared error')\n",
    "plt.xlabel('degree')\n",
    "plt.legend(loc='upper left')\n",
    "plt.yscale('log')\n",
    "print(mindeg)"
   ]
  },
  {
   "cell_type": "markdown",
   "metadata": {},
   "source": [
    "Run the set of cells for the validation process again and again. What do you see? The validation error minimizing polynomial degree might change! What happened?\n"
   ]
  },
  {
   "cell_type": "markdown",
   "metadata": {},
   "source": [
    "### Cross-Validation\n",
    "\n",
    "1. You should worry that a given split exposes us to the peculiarity of the data set that got randomly chosen for us. This naturally leads us to want to choose multiple such random splits and somehow average over this process to find the \"best\" validation minimizing polynomial degree or complexity $d$.\n",
    "2. The multiple splits process also allows us to get an estimate of how consistent our prediction error is: in other words, just like in the hair example, it gives us a distribution.\n",
    "3. Furthermore the validation set that we left out has two competing demands on it. The larger the set is, the better is our estimate of the out-of-sample error. So we'd like to hold out as much as possible. But the smaller the validation set is, the more data we have to train our model on. This allows us to have more smaller sets"
   ]
  },
  {
   "cell_type": "markdown",
   "metadata": {},
   "source": [
    "The idea is illustrated in the figure below, for a given hypothesis set $\\cal{H}_a$ with complexity parameter $d=a$ (the polynomial degree). We do the train/validate split, not once but multiple times. \n",
    "\n",
    "In the figure below we create 4-folds from the training set part of our data set $\\cal{D}$. By this we mean that we divide our set roughly into 4 equal parts. As illustrated below, this can be done in 4 different ways, or folds. In each fold we train a model on 3 of the parts. The model so trained is denoted as $g^-_{Fi}$, for example $g^-_{F3}$ . The minus sign in the superscript once again indicates that we are training on a reduced set. The $F3$ indicates that this model was trained on the third fold. Note that the model trained on each fold will be different!\n",
    "\n",
    "For each fold, after training the model, we calculate the risk or error on the remaining one validation part. We then add the validation errors together from the different folds, and divide by the number of folds to calculate an average error. Note again that this average error is an average over different models $g^-_{Fi}$. We use this error as the validation error for $d=a$ in the validation process described earlier."
   ]
  },
  {
   "cell_type": "markdown",
   "metadata": {},
   "source": [
    "![m:caption](images/train-cv2.png)\n",
    "\n",
    "Note that the number of folds is equal to the number of splits in the data. For example, if we have 5 splits, there will be 5 folds. To illustrate cross-validation consider below fits in $\\cal{H}_0$ and $\\cal{H}_1$ (means and straight lines) to a sine curve, with only 3 data points."
   ]
  },
  {
   "cell_type": "markdown",
   "metadata": {},
   "source": [
    "### The entire description of K-fold Cross-validation\n",
    "\n",
    "We put together this scheme to calculate the error for a given polynomial degree $d$ with the method we used earlier to choose a model given the validation-set risk as a function of $d$:\n",
    "\n",
    "1. create `n_folds` partitions of the training data. \n",
    "2. We then train on `n_folds -1` of these partitions, and test on the remaining partition. There are `n_folds` such combinations of partitions (or folds), and thus we obtain `n_fold` risks.\n",
    "3. We average the error or risk of all such combinations to obtain, for each value of $d$, $R_{dCV}$.\n",
    "4. We move on to the next value of $d$, and repeat 3\n",
    "5. and then find the optimal value of d that minimizes risk $d=*$.\n",
    "5. We finally use that value to make the final fit in $\\cal{H}_*$ on the entire old training set.\n",
    "\n",
    "![caption](images/train-cv3.png)"
   ]
  },
  {
   "cell_type": "markdown",
   "metadata": {},
   "source": [
    "It can also show that **cross-validation error is an unbiased estimate of the out of sample-error**.\n",
    "\n",
    "Let us now do 4-fold cross-validation on our  data set. We increase the complexity from degree 0 to degree 20. In each case we take the old training set, split in 4 ways into 4 folds, train on 3 folds, and calculate the validation error on the remaining one. We then average the erros over the four folds to get a cross-validation error for that $d$. Then we did what we did before: find the hypothesis space $\\cal{H}_*$ with the lowest cross-validation error, and refit it using the entire training set. We can then use the test set to estimate $E_{out}$.\n",
    "\n",
    "We will use `KFold` from `scikit-learn`:"
   ]
  },
  {
   "cell_type": "code",
   "execution_count": 35,
   "metadata": {},
   "outputs": [
    {
     "data": {
      "text/plain": [
       "[(array([12, 13, 14, 15, 16, 17, 18, 19, 20, 21, 22, 23, 24, 25, 26, 27, 28,\n",
       "         29, 30, 31, 32, 33, 34, 35, 36, 37, 38, 39, 40, 41, 42, 43, 44, 45,\n",
       "         46, 47]),\n",
       "  array([ 0,  1,  2,  3,  4,  5,  6,  7,  8,  9, 10, 11])),\n",
       " (array([ 0,  1,  2,  3,  4,  5,  6,  7,  8,  9, 10, 11, 24, 25, 26, 27, 28,\n",
       "         29, 30, 31, 32, 33, 34, 35, 36, 37, 38, 39, 40, 41, 42, 43, 44, 45,\n",
       "         46, 47]),\n",
       "  array([12, 13, 14, 15, 16, 17, 18, 19, 20, 21, 22, 23])),\n",
       " (array([ 0,  1,  2,  3,  4,  5,  6,  7,  8,  9, 10, 11, 12, 13, 14, 15, 16,\n",
       "         17, 18, 19, 20, 21, 22, 23, 36, 37, 38, 39, 40, 41, 42, 43, 44, 45,\n",
       "         46, 47]),\n",
       "  array([24, 25, 26, 27, 28, 29, 30, 31, 32, 33, 34, 35])),\n",
       " (array([ 0,  1,  2,  3,  4,  5,  6,  7,  8,  9, 10, 11, 12, 13, 14, 15, 16,\n",
       "         17, 18, 19, 20, 21, 22, 23, 24, 25, 26, 27, 28, 29, 30, 31, 32, 33,\n",
       "         34, 35]),\n",
       "  array([36, 37, 38, 39, 40, 41, 42, 43, 44, 45, 46, 47]))]"
      ]
     },
     "execution_count": 35,
     "metadata": {},
     "output_type": "execute_result"
    }
   ],
   "source": [
    "from sklearn.model_selection import KFold\n",
    "n_folds = 4\n",
    "kfold = KFold(n_folds)\n",
    "list(kfold.split(range(48)))"
   ]
  },
  {
   "cell_type": "markdown",
   "metadata": {},
   "source": [
    "What is wrong with the above? Why must we do the below\n",
    "\n"
   ]
  },
  {
   "cell_type": "code",
   "execution_count": 36,
   "metadata": {},
   "outputs": [
    {
     "data": {
      "text/plain": [
       "[(array([ 0,  4,  5,  6,  7,  8,  9, 11, 12, 13, 15, 16, 18, 19, 20, 22, 23,\n",
       "         24, 25, 26, 27, 28, 30, 31, 32, 33, 35, 36, 37, 38, 39, 43, 44, 45,\n",
       "         46, 47]),\n",
       "  array([ 1,  2,  3, 10, 14, 17, 21, 29, 34, 40, 41, 42])),\n",
       " (array([ 0,  1,  2,  3,  5,  6,  7,  9, 10, 12, 13, 14, 15, 17, 19, 20, 21,\n",
       "         22, 23, 24, 26, 27, 28, 29, 32, 33, 34, 37, 38, 40, 41, 42, 43, 44,\n",
       "         45, 47]),\n",
       "  array([ 4,  8, 11, 16, 18, 25, 30, 31, 35, 36, 39, 46])),\n",
       " (array([ 0,  1,  2,  3,  4,  6,  8, 10, 11, 12, 13, 14, 16, 17, 18, 21, 23,\n",
       "         24, 25, 26, 27, 28, 29, 30, 31, 34, 35, 36, 37, 39, 40, 41, 42, 43,\n",
       "         45, 46]),\n",
       "  array([ 5,  7,  9, 15, 19, 20, 22, 32, 33, 38, 44, 47])),\n",
       " (array([ 1,  2,  3,  4,  5,  7,  8,  9, 10, 11, 14, 15, 16, 17, 18, 19, 20,\n",
       "         21, 22, 25, 29, 30, 31, 32, 33, 34, 35, 36, 38, 39, 40, 41, 42, 44,\n",
       "         46, 47]),\n",
       "  array([ 0,  6, 12, 13, 23, 24, 26, 27, 28, 37, 43, 45]))]"
      ]
     },
     "execution_count": 36,
     "metadata": {},
     "output_type": "execute_result"
    }
   ],
   "source": [
    "kfold = KFold(n_folds, shuffle=True)\n",
    "list(kfold.split(range(48)))"
   ]
  },
  {
   "cell_type": "markdown",
   "metadata": {},
   "source": [
    "### 4-fold CV on our data set\n",
    "\n",
    ">YOUR TURN HERE: Carry out 4-Fold validation. For each fold, you will need to first create the polynomial features. for each degree polynomial, fit on the smaller training set and predict on the validation set. Store the MSEs, for each degree and each fold, in `train_errors` and `valid_errors`."
   ]
  },
  {
   "cell_type": "code",
   "execution_count": 37,
   "metadata": {},
   "outputs": [],
   "source": [
    "n_folds = 4\n",
    "degrees = range(21)\n",
    "train_errors = np.zeros((21,4))\n",
    "valid_errors = np.zeros((21,4))"
   ]
  },
  {
   "cell_type": "code",
   "execution_count": 39,
   "metadata": {},
   "outputs": [],
   "source": [
    "fold = 0\n",
    "for train, valid in KFold(n_folds, shuffle=True).split(range(48)): # split data into train/test groups, 4 times\n",
    "    train_dict, valid_dict = make_features(X_train[train], X_train[valid], degrees)\n",
    "    for d in degrees:\n",
    "        est = LinearRegression()\n",
    "        est.fit(train_dict[d], y_train[train])\n",
    "        train_errors[d, fold] = mean_squared_error(y_train[train], est.predict(train_dict[d])) #evaluate score function on held-out data\n",
    "        valid_errors[d, fold] = mean_squared_error(y_train[valid], est.predict(valid_dict[d])) #evaluate score function on held-out data\n",
    "    \n",
    "    fold +=1"
   ]
  },
  {
   "cell_type": "markdown",
   "metadata": {},
   "source": [
    "We average the MSEs over the folds."
   ]
  },
  {
   "cell_type": "code",
   "execution_count": 40,
   "metadata": {},
   "outputs": [],
   "source": [
    "mean_train_errors = train_errors.mean(axis=1)\n",
    "mean_valid_errors = valid_errors.mean(axis=1)\n",
    "std_train_errors = train_errors.std(axis=1)\n",
    "std_valid_errors = valid_errors.std(axis=1)"
   ]
  },
  {
   "cell_type": "markdown",
   "metadata": {},
   "source": [
    "We find the degree that minimizes the cross-validation error, and just like before, refit the model on the entire training set."
   ]
  },
  {
   "cell_type": "code",
   "execution_count": 41,
   "metadata": {},
   "outputs": [],
   "source": [
    "import seaborn as sns"
   ]
  },
  {
   "cell_type": "code",
   "execution_count": 42,
   "metadata": {},
   "outputs": [
    {
     "name": "stdout",
     "output_type": "stream",
     "text": [
      "2\n"
     ]
    },
    {
     "data": {
      "image/png": "[encoded data removed]",
      "text/plain": [
       "<Figure size 432x288 with 1 Axes>"
      ]
     },
     "metadata": {
      "needs_background": "light"
     },
     "output_type": "display_data"
    }
   ],
   "source": [
    "mindeg = np.argmin(mean_valid_errors)\n",
    "print(mindeg)\n",
    "post_cv_train_dict, test_dict = make_features(X_train, X_test, degrees)\n",
    "# fit on whole training set now\n",
    "est = LinearRegression()\n",
    "est.fit(post_cv_train_dict[mindeg], y_train)\n",
    "pred = est.predict(test_dict[mindeg])\n",
    "err = mean_squared_error(pred, y_test)\n",
    "errtr = mean_squared_error(y_train, est.predict(post_cv_train_dict[mindeg]))\n",
    "c0 = sns.color_palette()[0]\n",
    "c1 = sns.color_palette()[1]\n",
    "# plt.error(degrees, [r[0] for r in results], yerr=[r[3] for r in results], marker='o', label='CV error', alpha=0.5)\n",
    "plt.plot(degrees, mean_train_errors, marker='o', label='train error', alpha=0.9)\n",
    "plt.plot(degrees, mean_valid_errors, marker='o', label='CV error', alpha=0.9)\n",
    "\n",
    "plt.fill_between(degrees, mean_valid_errors-std_valid_errors, mean_valid_errors+std_valid_errors, color=c1, alpha=0.2)\n",
    "\n",
    "plt.plot([mindeg], [err], 'o', label='test set error')\n",
    "\n",
    "plt.ylabel('mean squared error')\n",
    "plt.xlabel('degree')\n",
    "plt.legend(loc='upper right')\n",
    "plt.yscale('log')"
   ]
  },
  {
   "cell_type": "markdown",
   "metadata": {},
   "source": [
    "We see that the cross-validation error minimizes at a low degree, and then increases. Because we have so few data points the spread in fold errors increases as well."
   ]
  },
  {
   "cell_type": "code",
   "execution_count": null,
   "metadata": {},
   "outputs": [],
   "source": []
  }
 ],
 "metadata": {
  "kernelspec": {
   "display_name": "Python 3",
   "language": "python",
   "name": "python3"
  },
  "language_info": {
   "codemirror_mode": {
    "name": "ipython",
    "version": 3
   },
   "file_extension": ".py",
   "mimetype": "text/x-python",
   "name": "python",
   "nbconvert_exporter": "python",
   "pygments_lexer": "ipython3",
   "version": "3.8.5"
  }
 },
 "nbformat": 4,
 "nbformat_minor": 4
}
